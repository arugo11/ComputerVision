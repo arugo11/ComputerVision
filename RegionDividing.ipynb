{
 "cells": [
  {
   "cell_type": "code",
   "execution_count": null,
   "metadata": {},
   "outputs": [],
   "source": [
    "hist = [3, 10, 25, 8, 4, 5, 30, 5]"
   ]
  },
  {
   "cell_type": "code",
   "execution_count": 1,
   "metadata": {},
   "outputs": [],
   "source": [
    "# セル1．ヒストグラム分割関数の定義\n",
    "def compute_variance_measures(hist, idx):\n",
    "    \"\"\"\n",
    "    hist と idx を受け取り，以下を計算して返す．\n",
    "      - クラス内分散(within-class variance)\n",
    "      - クラス間分散(between-class variance)\n",
    "      - 分離度(separation = between / within)\n",
    "    第1クラスは 0..idx．第2クラスは idx+1..end．\n",
    "    \"\"\"\n",
    "    # 第1クラス／第2クラスのヒストグラムを分割\n",
    "    hist0 = hist[:idx+1]\n",
    "    hist1 = hist[idx+1:]\n",
    "    \n",
    "    # 要素数\n",
    "    N0 = sum(hist0)\n",
    "    N1 = sum(hist1)\n",
    "    N  = N0 + N1\n",
    "    \n",
    "    # 全体平均\n",
    "    total_sum = sum(v * h for v, h in enumerate(hist))\n",
    "    mu = total_sum / N\n",
    "    \n",
    "    # クラス平均\n",
    "    mu0 = sum(v * h for v, h in enumerate(hist0)) / N0\n",
    "    mu1 = sum((idx+1+v) * h for v, h in enumerate(hist1)) / N1\n",
    "    \n",
    "    # クラス内分散の分子\n",
    "    num_within = (\n",
    "        sum(h * (v - mu0)**2 for v, h in enumerate(hist0))\n",
    "      + sum(h * ((idx+1+v) - mu1)**2 for v, h in enumerate(hist1))\n",
    "    )\n",
    "    within_variance = num_within / N\n",
    "    \n",
    "    # クラス間分散\n",
    "    between_variance = (N0 * (mu0 - mu)**2 + N1 * (mu1 - mu)**2) / N\n",
    "    \n",
    "    # 分離度\n",
    "    separation = between_variance / within_variance\n",
    "    \n",
    "    return within_variance, between_variance, separation\n"
   ]
  },
  {
   "cell_type": "code",
   "execution_count": null,
   "metadata": {},
   "outputs": [
    {
     "name": "stdout",
     "output_type": "stream",
     "text": [
      "クラス内分散：0.7\n",
      "クラス間分散：3.75\n",
      "分離度      ：5.357142857142858\n"
     ]
    }
   ],
   "source": [
    "# 例題\n",
    "hist = [3, 10, 25, 8, 4, 5, 20, 5]\n",
    "idx  = 4\n",
    "\n",
    "within, between, sep = compute_variance_measures(hist, idx)\n",
    "print(f\"クラス内分散：{within}\")\n",
    "print(f\"クラス間分散：{between}\")\n",
    "print(f\"分離度      ：{sep}\")\n"
   ]
  },
  {
   "cell_type": "code",
   "execution_count": null,
   "metadata": {},
   "outputs": [],
   "source": []
  },
  {
   "cell_type": "code",
   "execution_count": null,
   "metadata": {},
   "outputs": [],
   "source": []
  }
 ],
 "metadata": {
  "kernelspec": {
   "display_name": ".venv",
   "language": "python",
   "name": "python3"
  },
  "language_info": {
   "codemirror_mode": {
    "name": "ipython",
    "version": 3
   },
   "file_extension": ".py",
   "mimetype": "text/x-python",
   "name": "python",
   "nbconvert_exporter": "python",
   "pygments_lexer": "ipython3",
   "version": "3.10.12"
  }
 },
 "nbformat": 4,
 "nbformat_minor": 2
}
