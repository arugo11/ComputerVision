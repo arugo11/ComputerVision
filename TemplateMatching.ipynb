{
 "cells": [
  {
   "cell_type": "markdown",
   "id": "398f1d29",
   "metadata": {},
   "source": [
    "## 類似度の定義"
   ]
  },
  {
   "cell_type": "code",
   "execution_count": 1,
   "id": "474685a5",
   "metadata": {},
   "outputs": [
    {
     "name": "stdout",
     "output_type": "stream",
     "text": [
      "Collecting numpy\n",
      "  Downloading numpy-2.2.4-cp310-cp310-manylinux_2_17_x86_64.manylinux2014_x86_64.whl.metadata (62 kB)\n",
      "Downloading numpy-2.2.4-cp310-cp310-manylinux_2_17_x86_64.manylinux2014_x86_64.whl (16.4 MB)\n",
      "\u001b[2K   \u001b[90m━━━━━━━━━━━━━━━━━━━━━━━━━━━━━━━━━━━━━━━━\u001b[0m \u001b[32m16.4/16.4 MB\u001b[0m \u001b[31m255.0 kB/s\u001b[0m eta \u001b[36m0:00:00\u001b[0m00:01\u001b[0m00:02\u001b[0m\n",
      "\u001b[?25hInstalling collected packages: numpy\n",
      "Successfully installed numpy-2.2.4\n"
     ]
    }
   ],
   "source": [
    "!pip install numpy"
   ]
  },
  {
   "cell_type": "code",
   "execution_count": 21,
   "id": "00ba7af8",
   "metadata": {},
   "outputs": [],
   "source": [
    "import numpy as np\n",
    "from numpy import dtype,ndarray\n",
    "from typing import Any, Callable\n",
    "\n",
    "pic_1: ndarray[tuple[int, ...], dtype[Any]] =np.array(\n",
    "    [[3, 3],\n",
    "    [3, 3]]\n",
    ")\n",
    "\n",
    "pic_2: ndarray[tuple[int, ...], dtype[Any]] =np.array(\n",
    "    [[5, 2],\n",
    "    [2, 4]]\n",
    ")"
   ]
  },
  {
   "cell_type": "markdown",
   "id": "799070e8",
   "metadata": {},
   "source": [
    "### 相違度: Sum of Square Distance\n",
    "\n",
    "$$\n",
    "R_{SSD} = \\sum_{i,j}(I(i,j) - T(i,j))^2\n",
    "$$\n",
    "\n",
    "### 相違度: Sum of Absolute Distance\n",
    "$$\n",
    "R_{SAD} = \\sum_{i,j}|{I(i,j) - T(i,j)}|\n",
    "$$\n",
    "\n",
    "### 類似度: Normalized Cross Correlation\n",
    "$$\n",
    "R_{NCC} = \\frac{\\sum_{i,j}I(i,j)T(i,j)}{\\sqrt{\\sum_{i,j}I(i,j)^2 \\sum_{i,j}T(i,j)^2}}\n",
    "$$\n"
   ]
  },
  {
   "cell_type": "code",
   "execution_count": 17,
   "id": "d093b9a4",
   "metadata": {},
   "outputs": [],
   "source": [
    "# Practice1\n",
    "\n",
    "\n",
    "def SSD(image:ndarray, template:ndarray) -> float:\n",
    "    return np.sum((image - template) ** 2)\n",
    "\n",
    "def SAD(image:ndarray, template:ndarray) -> float:\n",
    "    return np.sum(abs(image - template))\n",
    "\n",
    "def NCC(image:ndarray, template:ndarray) -> float:\n",
    "    if np.sqrt(np.sum(image ** 2) * np.sum(template ** 2)) != 0:\n",
    "        return (np.sum(image * template)) / np.sqrt(np.sum(image ** 2) * np.sum(template ** 2))\n",
    "    return 0.0\n"
   ]
  },
  {
   "cell_type": "code",
   "execution_count": null,
   "id": "9d0eb717",
   "metadata": {},
   "outputs": [
    {
     "name": "stdout",
     "output_type": "stream",
     "text": [
      "SAD:5\n",
      "      SSD:7\n",
      "      NCC:0.9285714285714286\n",
      "\n"
     ]
    }
   ],
   "source": [
    "print(f'SAD:{SAD(pic_1,pic_2)}\\n\\\n",
    "      SSD:{SSD(pic_1,pic_2)}\\n\\\n",
    "      NCC:{NCC(pic_1,pic_2)}\\n')"
   ]
  },
  {
   "cell_type": "code",
   "execution_count": null,
   "id": "072dd934",
   "metadata": {},
   "outputs": [
    {
     "name": "stdout",
     "output_type": "stream",
     "text": [
      "[[10  8  8  8]\n",
      " [ 2  0  4  8]\n",
      " [ 8  8 12 16]\n",
      " [14 16 20 24]]\n"
     ]
    }
   ],
   "source": [
    "# Practice2\n",
    "\n",
    "from numpy import dtype, float64\n",
    "\n",
    "\n",
    "image: ndarray[tuple[int, ...], dtype[Any]] = np.array(\n",
    "    [[1, 1, 2, 3, 4],\n",
    "     [1, 1, 2, 3, 4],\n",
    "     [5, 5, 6, 7, 8],\n",
    "     [5, 5, 6, 7, 8],\n",
    "     [9, 9, 10, 11, 12]\n",
    "     ]\n",
    ")\n",
    "\n",
    "template: ndarray[tuple[int, ...], dtype[Any]] = np.array(\n",
    "    [[1,2],\n",
    "     [5,6]]\n",
    ")\n",
    "\n",
    "def template_matching(image:ndarray, \n",
    "                      template:ndarray, \n",
    "                      similarity_metric:Callable[[ndarray,ndarray],float]):\n",
    "    image_height, image_width = image.shape\n",
    "    template_height, template_width = template.shape\n",
    "    \n",
    "    result_height = image_height - template_height + 1\n",
    "    result_width = image_width - template_width + 1\n",
    "\n",
    "    return np.array([\n",
    "        [similarity_metric(image[y:y+template_height, x:x+template_width], template)\n",
    "         for x in range(result_width)]\n",
    "         for y in range(result_height)\n",
    "    ])\n",
    "\n",
    "\n",
    "print(template_matching(image,template,SAD))\n"
   ]
  }
 ],
 "metadata": {
  "kernelspec": {
   "display_name": ".venv",
   "language": "python",
   "name": "python3"
  },
  "language_info": {
   "codemirror_mode": {
    "name": "ipython",
    "version": 3
   },
   "file_extension": ".py",
   "mimetype": "text/x-python",
   "name": "python",
   "nbconvert_exporter": "python",
   "pygments_lexer": "ipython3",
   "version": "3.10.12"
  }
 },
 "nbformat": 4,
 "nbformat_minor": 5
}
