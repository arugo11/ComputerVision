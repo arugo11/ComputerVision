{
 "cells": [
  {
   "cell_type": "markdown",
   "id": "398f1d29",
   "metadata": {},
   "source": [
    "## 類似度の定義"
   ]
  },
  {
   "cell_type": "code",
   "execution_count": 40,
   "id": "474685a5",
   "metadata": {},
   "outputs": [],
   "source": [
    "# !pip install numpy"
   ]
  },
  {
   "cell_type": "code",
   "execution_count": 41,
   "id": "00ba7af8",
   "metadata": {},
   "outputs": [],
   "source": [
    "import numpy as np\n",
    "from numpy import dtype,ndarray\n",
    "from typing import Any, Callable\n",
    "import math\n",
    "\n",
    "pic_1: ndarray[tuple[int, ...], dtype[Any]] =np.array(\n",
    "    [[1, 2],\n",
    "    [3, 4]]\n",
    ")\n",
    "\n",
    "pic_2: ndarray[tuple[int, ...], dtype[Any]] =np.array(\n",
    "    [[2, 2],\n",
    "    [2, 2]]\n",
    ")"
   ]
  },
  {
   "cell_type": "markdown",
   "id": "799070e8",
   "metadata": {},
   "source": [
    "### 相違度: Sum of Square Distance\n",
    "\n",
    "$$\n",
    "R_{SSD} = \\sum_{i,j}(I(i,j) - T(i,j))^2\n",
    "$$\n",
    "\n",
    "### 相違度: Sum of Absolute Distance\n",
    "$$\n",
    "R_{SAD} = \\sum_{i,j}|{I(i,j) - T(i,j)}|\n",
    "$$\n",
    "\n",
    "### 類似度: Normalized Cross Correlation\n",
    "$$\n",
    "R_{NCC} = \\frac{\\sum_{i,j}I(i,j)T(i,j)}{\\sqrt{\\sum_{i,j}I(i,j)^2 \\sum_{i,j}T(i,j)^2}}\n",
    "$$\n"
   ]
  },
  {
   "cell_type": "code",
   "execution_count": 42,
   "id": "d093b9a4",
   "metadata": {},
   "outputs": [],
   "source": [
    "# Practice1\n",
    "\n",
    "\n",
    "def SSD(image:ndarray, template:ndarray) -> float:\n",
    "    return np.sum((image - template) ** 2)\n",
    "\n",
    "def SAD(image:ndarray, template:ndarray) -> float:\n",
    "    return np.sum(abs(image - template))\n",
    "\n",
    "def NCC(image:ndarray, template:ndarray) -> float:\n",
    "    if np.sqrt(np.sum(image ** 2) * np.sum(template ** 2)) != 0:\n",
    "        return (np.sum(image * template)) / np.sqrt(np.sum(image ** 2) * np.sum(template ** 2))\n",
    "    return 0.0\n"
   ]
  },
  {
   "cell_type": "code",
   "execution_count": 43,
   "id": "9d0eb717",
   "metadata": {},
   "outputs": [
    {
     "name": "stdout",
     "output_type": "stream",
     "text": [
      "SAD:4\n",
      "      SSD:6\n",
      "      NCC:0.9128709291752769\n",
      "\n"
     ]
    }
   ],
   "source": [
    "print(f'SAD:{SAD(pic_1,pic_2)}\\n\\\n",
    "      SSD:{SSD(pic_1,pic_2)}\\n\\\n",
    "      NCC:{NCC(pic_1,pic_2)}\\n')"
   ]
  },
  {
   "cell_type": "code",
   "execution_count": 44,
   "id": "072dd934",
   "metadata": {},
   "outputs": [
    {
     "name": "stdout",
     "output_type": "stream",
     "text": [
      "[[10  8  8  8]\n",
      " [ 2  0  4  8]\n",
      " [ 8  8 12 16]\n",
      " [14 16 20 24]]\n"
     ]
    }
   ],
   "source": [
    "# Practice2\n",
    "\n",
    "from numpy import dtype, float64\n",
    "\n",
    "\n",
    "image: ndarray[tuple[int, ...], dtype[Any]] = np.array(\n",
    "    [[1, 1, 2, 3, 4],\n",
    "     [1, 1, 2, 3, 4],\n",
    "     [5, 5, 6, 7, 8],\n",
    "     [5, 5, 6, 7, 8],\n",
    "     [9, 9, 10, 11, 12]\n",
    "     ]\n",
    ")\n",
    "\n",
    "template: ndarray[tuple[int, ...], dtype[Any]] = np.array(\n",
    "    [[1,2],\n",
    "     [5,6]]\n",
    ")\n",
    "\n",
    "def template_matching(image:ndarray, \n",
    "                      template:ndarray, \n",
    "                      similarity_metric:Callable[[ndarray,ndarray],float]):\n",
    "    image_height, image_width = image.shape\n",
    "    template_height, template_width = template.shape\n",
    "    \n",
    "    result_height = image_height - template_height + 1\n",
    "    result_width = image_width - template_width + 1\n",
    "\n",
    "    return np.array([\n",
    "        [similarity_metric(image[y:y+template_height, x:x+template_width], template)\n",
    "         for x in range(result_width)]\n",
    "         for y in range(result_height)\n",
    "    ])\n",
    "\n",
    "\n",
    "print(template_matching(image,template,SAD))\n"
   ]
  },
  {
   "cell_type": "markdown",
   "id": "b9a2dc8b",
   "metadata": {},
   "source": []
  },
  {
   "cell_type": "code",
   "execution_count": 45,
   "id": "bf7b0fa9",
   "metadata": {},
   "outputs": [],
   "source": [
    "image2: ndarray[tuple[int, ...], dtype[Any]] = np.array(\n",
    "    [[1, 1, 2, 3, 4],\n",
    "     [1, 1, 2, 3, 4],\n",
    "     [6, 5, 1, 7, 8],\n",
    "     [5, 6, 0, 7, 8],\n",
    "     [9, 9, 10, 11, 12]\n",
    "     ]\n",
    ")\n",
    "# 横sobelフィルタ\n",
    "horizontal_sobel_filter = np.array(\n",
    "    [[-1,0,1],\n",
    "     [-2,0,2],\n",
    "     [-1,0,1]]\n",
    ")\n",
    "\n",
    "# 縦sobelフィルタ\n",
    "parallels_sobel_filter = np.array(\n",
    "    [[-1,-2,-1],\n",
    "     [0,0,0],\n",
    "     [1,2,3]]\n",
    ")\n"
   ]
  },
  {
   "cell_type": "code",
   "execution_count": 46,
   "id": "48f9439b",
   "metadata": {},
   "outputs": [],
   "source": [
    "def sobel_filter(target_x, target_y, image, filter):\n",
    "    return np.sum(image[target_y-1 : target_y+2, target_x-1 : target_x+2] * filter)\n",
    "\n",
    "# ヘルパー関数\n",
    "def power_sum(x, y):\n",
    "    return x**2 + y**2"
   ]
  },
  {
   "cell_type": "code",
   "execution_count": null,
   "id": "4435dee6",
   "metadata": {},
   "outputs": [],
   "source": [
    "I_x = sobel_filter(1,2,image2,horizontal_sobel_filter)\n",
    "I_y = sobel_filter(1,2,image2,parallels_sobel_filter)\n",
    "power_sum_I = power_sum(I_x, I_y)\n",
    "atan2_I = math.atan2(I_y,I_x) * 180 / math.pi"
   ]
  },
  {
   "cell_type": "code",
   "execution_count": 48,
   "id": "ccde2cd1",
   "metadata": {},
   "outputs": [
    {
     "name": "stdout",
     "output_type": "stream",
     "text": [
      "340\n"
     ]
    }
   ],
   "source": [
    "print(power_sum_I)"
   ]
  }
 ],
 "metadata": {
  "kernelspec": {
   "display_name": ".venv",
   "language": "python",
   "name": "python3"
  },
  "language_info": {
   "codemirror_mode": {
    "name": "ipython",
    "version": 3
   },
   "file_extension": ".py",
   "mimetype": "text/x-python",
   "name": "python",
   "nbconvert_exporter": "python",
   "pygments_lexer": "ipython3",
   "version": "3.10.12"
  }
 },
 "nbformat": 4,
 "nbformat_minor": 5
}
