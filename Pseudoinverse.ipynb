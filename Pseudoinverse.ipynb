{
 "cells": [
  {
   "cell_type": "code",
   "execution_count": 2,
   "id": "dba94552",
   "metadata": {},
   "outputs": [],
   "source": [
    "import numpy as np\n",
    "from numpy import dtype,ndarray\n",
    "from typing import Any, Callable\n",
    "import math\n",
    "\n",
    "A_arr: ndarray[tuple[int, ...], dtype[Any]] =np.array(\n",
    "    [\n",
    "        [1, 2],\n",
    "        [-1,1],\n",
    "        [0,1]\n",
    "    ]\n",
    ")\n",
    "\n",
    "B_arr: ndarray[tuple[int, ...], dtype[Any]] =np.array(\n",
    "    [\n",
    "        [6],\n",
    "        [6],\n",
    "        [1]\n",
    "    ]\n",
    ")\n"
   ]
  },
  {
   "cell_type": "code",
   "execution_count": 4,
   "id": "453767ee",
   "metadata": {},
   "outputs": [
    {
     "data": {
      "text/plain": [
       "array([[-1.72727273],\n",
       "       [ 3.45454545]])"
      ]
     },
     "execution_count": 4,
     "metadata": {},
     "output_type": "execute_result"
    }
   ],
   "source": [
    "np.dot(np.dot(np.linalg.inv(np.dot(A_arr.T,A_arr)),A_arr.T),B_arr)"
   ]
  }
 ],
 "metadata": {
  "kernelspec": {
   "display_name": ".venv",
   "language": "python",
   "name": "python3"
  },
  "language_info": {
   "codemirror_mode": {
    "name": "ipython",
    "version": 3
   },
   "file_extension": ".py",
   "mimetype": "text/x-python",
   "name": "python",
   "nbconvert_exporter": "python",
   "pygments_lexer": "ipython3",
   "version": "3.10.12"
  }
 },
 "nbformat": 4,
 "nbformat_minor": 5
}
