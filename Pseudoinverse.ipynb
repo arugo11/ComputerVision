{
 "cells": [
  {
   "cell_type": "code",
   "execution_count": 2,
   "id": "dba94552",
   "metadata": {},
   "outputs": [],
   "source": [
    "import numpy as np\n",
    "from numpy import dtype,ndarray\n",
    "from typing import Any, Callable\n",
    "import math\n",
    "\n",
    "A_arr: ndarray[tuple[int, ...], dtype[Any]] =np.array(\n",
    "    [\n",
    "        [1, 2],\n",
    "        [-1,1],\n",
    "        [0,1]\n",
    "    ]\n",
    ")\n",
    "\n",
    "B_arr: ndarray[tuple[int, ...], dtype[Any]] =np.array(\n",
    "    [\n",
    "        [6],\n",
    "        [6],\n",
    "        [1]\n",
    "    ]\n",
    ")\n"
   ]
  },
  {
   "cell_type": "code",
   "execution_count": null,
   "id": "453767ee",
   "metadata": {},
   "outputs": [
    {
     "ename": "ValueError",
     "evalue": "operands could not be broadcast together with shapes (2,3) (3,2) ",
     "output_type": "error",
     "traceback": [
      "\u001b[0;31m---------------------------------------------------------------------------\u001b[0m",
      "\u001b[0;31mValueError\u001b[0m                                Traceback (most recent call last)",
      "Cell \u001b[0;32mIn[3], line 1\u001b[0m\n\u001b[0;32m----> 1\u001b[0m np\u001b[38;5;241m.\u001b[39mlinalg\u001b[38;5;241m.\u001b[39minv(\u001b[43mA_arr\u001b[49m\u001b[38;5;241;43m.\u001b[39;49m\u001b[43mT\u001b[49m\u001b[38;5;241;43m*\u001b[39;49m\u001b[43mA_arr\u001b[49m)\u001b[38;5;241m*\u001b[39mA_arr\u001b[38;5;241m.\u001b[39mT\u001b[38;5;241m*\u001b[39mB_arr\n",
      "\u001b[0;31mValueError\u001b[0m: operands could not be broadcast together with shapes (2,3) (3,2) "
     ]
    }
   ],
   "source": [
    "np.dot(np.linalg.inv(np.dot(A_arr.T,A_arr)),A_arr.T)*B_arr"
   ]
  },
  {
   "cell_type": "code",
   "execution_count": null,
   "id": "57075cf7",
   "metadata": {
    "vscode": {
     "languageId": "ini"
    }
   },
   "outputs": [],
   "source": [
    "#\n",
    "# 2. A_arr の疑似逆行列自体を求めるため、B_arr との乗算を削除します。\n",
    "# 1. 行列積には '*' の代わりに '@' を使用します。 A_arr の疑似逆行列 (A^T A)^(-1) A^T を計算します。#"
   ]
  },
  {
   "cell_type": "code",
   "execution_count": null,
   "id": "87424c48",
   "metadata": {},
   "outputs": [],
   "source": []
  }
 ],
 "metadata": {
  "kernelspec": {
   "display_name": ".venv",
   "language": "python",
   "name": "python3"
  },
  "language_info": {
   "codemirror_mode": {
    "name": "ipython",
    "version": 3
   },
   "file_extension": ".py",
   "mimetype": "text/x-python",
   "name": "python",
   "nbconvert_exporter": "python",
   "pygments_lexer": "ipython3",
   "version": "3.10.12"
  }
 },
 "nbformat": 4,
 "nbformat_minor": 5
}
